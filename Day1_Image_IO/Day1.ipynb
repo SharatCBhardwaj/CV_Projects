{
 "cells": [
  {
   "cell_type": "code",
   "execution_count": null,
   "id": "5a378882-ce4f-4b8d-ad3e-3512debf849f",
   "metadata": {},
   "outputs": [],
   "source": [
    "# Import libraries\n",
    "import cv2\n",
    "import numpy as np\n",
    "# from dataPath import DATA_PATH\n",
    "import matplotlib.pyplot as plt\n",
    "%matplotlib inline"
   ]
  },
  {
   "cell_type": "code",
   "execution_count": null,
   "id": "c2f4c697-115a-459a-9f45-520044992a03",
   "metadata": {},
   "outputs": [],
   "source": [
    "#Checking the Data Path for Image read\n",
    "import os\n",
    "imagePath = \"C:/Users/MAHADEV/CV_Course/week1_python/data/images/number_zero.jpg\"\n",
    "print(os.path.exists(imagePath))  # Should return True"
   ]
  },
  {
   "cell_type": "code",
   "execution_count": null,
   "id": "a7de1a8b-0977-4903-a353-b6d7082ae961",
   "metadata": {},
   "outputs": [],
   "source": [
    "#Reading Image from custom data path\n",
    "imagePath = (\"C:/Users/MAHADEV/CV_Course/week1_python/data/images/number_zero.jpg\")\n",
    "# Read image in Grayscale format\n",
    "testImage = cv2.imread(imagePath,0)\n",
    "print(testImage)"
   ]
  },
  {
   "cell_type": "code",
   "execution_count": null,
   "id": "0699cd39-1e69-4aac-8c22-8fd15f26d30d",
   "metadata": {},
   "outputs": [],
   "source": [
    "#Defining base Data path and creating Image\n",
    "data_path = (\"C:/Users/MAHADEV/CV_Course/week1_python/data/\")\n",
    "imagePath = os.path.join(data_path,\"images/number_zero.jpg\")\n",
    "print(os.path.exists(imagePath))  # Should return True"
   ]
  },
  {
   "cell_type": "code",
   "execution_count": null,
   "id": "0c044f01-9858-40c2-92f7-201e5743e7c5",
   "metadata": {},
   "outputs": [],
   "source": [
    "# Reading Image for Image path\n",
    "data_path = (\"C:/Users/MAHADEV/CV_Course/week1_python/data/\")\n",
    "imagePath = os.path.join(data_path,\"images/number_zero.jpg\")\n",
    "\n",
    "# Read image in Grayscale format\n",
    "testImage = cv2.imread(imagePath,0)\n",
    "print(testImage)"
   ]
  },
  {
   "cell_type": "code",
   "execution_count": null,
   "id": "f0fad697-d194-489a-925b-cca491c4bd72",
   "metadata": {},
   "outputs": [],
   "source": [
    "print(\"Data type = {}\\n\".format(testImage.dtype))\n",
    "print(\"Object type = {}\\n\".format(type(testImage)))\n",
    "print(\"Image Dimensions = {}\\n\".format(testImage.shape))\n",
    "# The size or resolution is 13x11 which means height=13 and witdh=11. In other words, it has 13 rows and 11 columns."
   ]
  }
 ],
 "metadata": {
  "kernelspec": {
   "display_name": "Python 3 (ipykernel)",
   "language": "python",
   "name": "python3"
  },
  "language_info": {
   "codemirror_mode": {
    "name": "ipython",
    "version": 3
   },
   "file_extension": ".py",
   "mimetype": "text/x-python",
   "name": "python",
   "nbconvert_exporter": "python",
   "pygments_lexer": "ipython3",
   "version": "3.12.7"
  }
 },
 "nbformat": 4,
 "nbformat_minor": 5
}
