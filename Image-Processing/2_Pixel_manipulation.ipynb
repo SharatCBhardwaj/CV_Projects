{
 "cells": [
  {
   "cell_type": "markdown",
   "id": "2aedd7ff-5443-4d56-bba4-9181ffadbed3",
   "metadata": {},
   "source": [
    "## Image Pixel Manipulation"
   ]
  },
  {
   "cell_type": "code",
   "execution_count": null,
   "id": "603b1334-75b6-4a43-8c5c-af3c0c0bce29",
   "metadata": {},
   "outputs": [],
   "source": [
    "# Import libraries\n",
    "import cv2\n",
    "import numpy as np\n",
    "import matplotlib.pyplot as plt\n",
    "%matplotlib inline"
   ]
  },
  {
   "cell_type": "markdown",
   "id": "16f16ec6-6bfa-4114-a2d5-bdcf7f55fd25",
   "metadata": {},
   "source": [
    "##### 1. To show images it is needed to set some matplotlib parameters"
   ]
  },
  {
   "cell_type": "code",
   "execution_count": null,
   "id": "f3da6092-d639-4198-9a8a-6f6df662bcb7",
   "metadata": {},
   "outputs": [],
   "source": [
    "import matplotlib\n",
    "# configure global plotting defaults \n",
    "# Sets the default figure size for all plots to 6 inches by 6 inches (square plot).\n",
    "matplotlib.rcParams['figure.figsize'] = (6.0, 6.0) # Equivalent to: plt.figure(figsize=(6, 6))\n",
    "\n",
    "# Sets the default color map for displaying images to grayscale.\n",
    "matplotlib.rcParams['image.cmap'] = 'gray' "
   ]
  },
  {
   "cell_type": "markdown",
   "id": "474500b0-948e-456c-a58e-adbacbf51c93",
   "metadata": {},
   "source": [
    "##### 2. Pixel Manipulation"
   ]
  },
  {
   "cell_type": "code",
   "execution_count": null,
   "id": "36b0d1c2-d19e-4376-9852-6bb2e69fb176",
   "metadata": {},
   "outputs": [],
   "source": [
    "# Reading Image for Image path\n",
    "import os\n",
    "data_path = (\"data/\")\n",
    "imagePath = os.path.join(data_path,\"images/number_zero.jpg\")\n",
    "\n",
    "# Read image in Grayscale format\n",
    "testImage = cv2.imread(imagePath,0)\n",
    "print(testImage)"
   ]
  },
  {
   "cell_type": "markdown",
   "id": "7fea5d77-2ce4-4ad2-a97b-b62106ce914a",
   "metadata": {},
   "source": [
    "###### Access the First Pixel and few other Pixels of Image "
   ]
  },
  {
   "cell_type": "code",
   "execution_count": null,
   "id": "aeb0381a-071e-4e60-a7c3-108ff44eda39",
   "metadata": {},
   "outputs": [],
   "source": [
    "# testImage is accessed as numpy array [ROW,COLUMN] format\n",
    "print(testImage[0,0])\n",
    "print(testImage[2,2])\n",
    "print(testImage[4,1])"
   ]
  },
  {
   "cell_type": "markdown",
   "id": "4580c3cb-f506-456d-96b6-feab3d22fbce",
   "metadata": {},
   "source": [
    "##### Changing Pixel Values"
   ]
  },
  {
   "cell_type": "code",
   "execution_count": null,
   "id": "a7faf0a3-bc9e-4fc0-8344-3892eb396cdd",
   "metadata": {},
   "outputs": [],
   "source": [
    "# testInage[Row,Col]\n",
    "testImage[0,0]=200\n",
    "testImage[0,1]=180\n",
    "testImage[0,2]=160\n",
    "testImage[1,0]=210\n",
    "testImage[2,0]=220\n",
    "print(testImage)"
   ]
  },
  {
   "cell_type": "code",
   "execution_count": null,
   "id": "faad5a61-7922-490c-bf1c-7b99df23395f",
   "metadata": {},
   "outputs": [],
   "source": [
    "# Access a region : ROI\n",
    "test_roi = testImage[0:2,0:4] #[Row,Col]\n",
    "print(\"Selected Region\\n{}\\n\".format(test_roi))"
   ]
  },
  {
   "cell_type": "code",
   "execution_count": null,
   "id": "83f8fb75-aa59-4020-9db1-d864c0b0b411",
   "metadata": {},
   "outputs": [],
   "source": [
    "# Modifying a region\n",
    "testImage[0:2,0:4]=111\n",
    "print(\"Modified Matrix\\n{}\\n\".format(testImage))"
   ]
  },
  {
   "cell_type": "markdown",
   "id": "e421b8c9-0c22-4ff2-a9fe-8c17d45b676b",
   "metadata": {},
   "source": [
    "##### Dispaly an Image"
   ]
  },
  {
   "cell_type": "code",
   "execution_count": null,
   "id": "49887fac-ce9f-4075-a932-a4c095be0d42",
   "metadata": {},
   "outputs": [],
   "source": [
    "#Displaying an Image\n",
    "plt.imshow(testImage)\n",
    "plt.colorbar()\n",
    "plt.show()"
   ]
  }
 ],
 "metadata": {
  "kernelspec": {
   "display_name": "Python 3 (ipykernel)",
   "language": "python",
   "name": "python3"
  },
  "language_info": {
   "codemirror_mode": {
    "name": "ipython",
    "version": 3
   },
   "file_extension": ".py",
   "mimetype": "text/x-python",
   "name": "python",
   "nbconvert_exporter": "python",
   "pygments_lexer": "ipython3",
   "version": "3.12.9"
  }
 },
 "nbformat": 4,
 "nbformat_minor": 5
}
