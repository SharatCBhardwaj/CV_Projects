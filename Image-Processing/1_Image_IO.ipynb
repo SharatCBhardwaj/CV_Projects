{
 "cells": [
  {
   "cell_type": "markdown",
   "id": "fa95f72a-b86c-46fc-8c82-0e8f8b8fe69d",
   "metadata": {},
   "source": [
    "## How to read an Image from data path "
   ]
  },
  {
   "cell_type": "markdown",
   "id": "845cfe66-ddc7-4997-a273-d5b82864860d",
   "metadata": {},
   "source": [
    "### Setup the Jupyter Notebook and Install the Libraries"
   ]
  },
  {
   "cell_type": "code",
   "execution_count": 1,
   "id": "5a378882-ce4f-4b8d-ad3e-3512debf849f",
   "metadata": {},
   "outputs": [],
   "source": [
    "# Import libraries\n",
    "import cv2\n",
    "import numpy as np\n",
    "import matplotlib.pyplot as plt\n",
    "%matplotlib inline"
   ]
  },
  {
   "cell_type": "code",
   "execution_count": 3,
   "id": "c2f4c697-115a-459a-9f45-520044992a03",
   "metadata": {},
   "outputs": [
    {
     "name": "stdout",
     "output_type": "stream",
     "text": [
      "True\n"
     ]
    }
   ],
   "source": [
    "#Checking the Data Path for Image read\n",
    "import os\n",
    "imagePath = \"data/images/number_zero.jpg\"\n",
    "print(os.path.exists(imagePath))  # Should return True"
   ]
  },
  {
   "cell_type": "code",
   "execution_count": 4,
   "id": "a7de1a8b-0977-4903-a353-b6d7082ae961",
   "metadata": {},
   "outputs": [
    {
     "name": "stdout",
     "output_type": "stream",
     "text": [
      "[[  1   0   3   0   3   0   3   2   4   2   0]\n",
      " [  0   1   0   3   3 253 253   0   0   2   1]\n",
      " [  0   0   8   0 249 255 255 253  71   1   5]\n",
      " [  3   0   2 251 255   2   0 253 254   0   2]\n",
      " [  1   5   0 252   4   0   3   0 255   4   0]\n",
      " [  0   0   2 255   0   0   0   3 253   0   4]\n",
      " [  0   5   4 249   4   2   0   0 255   1   0]\n",
      " [  2   0   0 255   3   0   5   0 254   0   4]\n",
      " [  0   0   0 255   1   0   0   3 255   0   0]\n",
      " [  1   5   0 252   2   2   2  76 250   7   0]\n",
      " [  0   0   5   0 254   0   0 255 254   0   1]\n",
      " [  0   8   0   3 253 253 255 250   1   2   1]\n",
      " [  2   0   0   0   5   0   4   1   3   0   0]]\n"
     ]
    }
   ],
   "source": [
    "#Reading Image from custom data path\n",
    "imagePath = (\"data/images/number_zero.jpg\")\n",
    "# Read image in format 0: Grayscale ,1:RGB,-1:Unchanged\n",
    "testImage = cv2.imread(imagePath,0)\n",
    "print(testImage)"
   ]
  },
  {
   "cell_type": "code",
   "execution_count": 5,
   "id": "0699cd39-1e69-4aac-8c22-8fd15f26d30d",
   "metadata": {},
   "outputs": [
    {
     "name": "stdout",
     "output_type": "stream",
     "text": [
      "True\n"
     ]
    }
   ],
   "source": [
    "#Defining base Data path and creating Image\n",
    "data_path = (\"data/images/\")\n",
    "imagePath = os.path.join(data_path,\"number_zero.jpg\")\n",
    "print(os.path.exists(imagePath))  # Should return True"
   ]
  },
  {
   "cell_type": "code",
   "execution_count": 6,
   "id": "0c044f01-9858-40c2-92f7-201e5743e7c5",
   "metadata": {},
   "outputs": [
    {
     "name": "stdout",
     "output_type": "stream",
     "text": [
      "[[  1   0   3   0   3   0   3   2   4   2   0]\n",
      " [  0   1   0   3   3 253 253   0   0   2   1]\n",
      " [  0   0   8   0 249 255 255 253  71   1   5]\n",
      " [  3   0   2 251 255   2   0 253 254   0   2]\n",
      " [  1   5   0 252   4   0   3   0 255   4   0]\n",
      " [  0   0   2 255   0   0   0   3 253   0   4]\n",
      " [  0   5   4 249   4   2   0   0 255   1   0]\n",
      " [  2   0   0 255   3   0   5   0 254   0   4]\n",
      " [  0   0   0 255   1   0   0   3 255   0   0]\n",
      " [  1   5   0 252   2   2   2  76 250   7   0]\n",
      " [  0   0   5   0 254   0   0 255 254   0   1]\n",
      " [  0   8   0   3 253 253 255 250   1   2   1]\n",
      " [  2   0   0   0   5   0   4   1   3   0   0]]\n"
     ]
    }
   ],
   "source": [
    "# Reading Image for Image path\n",
    "data_path = (\"data/\")\n",
    "imagePath = os.path.join(data_path,\"images/number_zero.jpg\")\n",
    "\n",
    "# Read image in Grayscale format\n",
    "testImage = cv2.imread(imagePath,0)\n",
    "print(testImage)"
   ]
  },
  {
   "cell_type": "code",
   "execution_count": 7,
   "id": "f0fad697-d194-489a-925b-cca491c4bd72",
   "metadata": {},
   "outputs": [
    {
     "name": "stdout",
     "output_type": "stream",
     "text": [
      "Data type = uint8\n",
      "\n",
      "Object type = <class 'numpy.ndarray'>\n",
      "\n",
      "Image Dimensions = (13, 11)\n",
      "\n"
     ]
    }
   ],
   "source": [
    "print(\"Data type = {}\\n\".format(testImage.dtype))\n",
    "print(\"Object type = {}\\n\".format(type(testImage)))\n",
    "print(\"Image Dimensions = {}\\n\".format(testImage.shape))\n",
    "# The size or resolution is 13x11 which means height=13 and witdh=11. In other words, it has 13 rows and 11 columns."
   ]
  },
  {
   "cell_type": "code",
   "execution_count": null,
   "id": "fe2639cf-37a6-42c7-8dc6-2045f31cd263",
   "metadata": {},
   "outputs": [],
   "source": []
  }
 ],
 "metadata": {
  "kernelspec": {
   "display_name": "Python 3 (ipykernel)",
   "language": "python",
   "name": "python3"
  },
  "language_info": {
   "codemirror_mode": {
    "name": "ipython",
    "version": 3
   },
   "file_extension": ".py",
   "mimetype": "text/x-python",
   "name": "python",
   "nbconvert_exporter": "python",
   "pygments_lexer": "ipython3",
   "version": "3.12.9"
  }
 },
 "nbformat": 4,
 "nbformat_minor": 5
}
